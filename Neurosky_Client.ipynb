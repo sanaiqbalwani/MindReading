{
 "cells": [
  {
   "cell_type": "code",
   "execution_count": 1,
   "metadata": {
    "collapsed": true
   },
   "outputs": [],
   "source": [
    "import socket\n",
    "import hashlib\n",
    "import json\n",
    "import time\n",
    "import matplotlib.pyplot as plt\n",
    "import os\n",
    "import csv"
   ]
  },
  {
   "cell_type": "code",
   "execution_count": 2,
   "metadata": {
    "collapsed": true
   },
   "outputs": [],
   "source": [
    "HOST = '127.0.0.1'    \n",
    "PORT = 13854\n",
    "s = socket.socket(socket.AF_INET, socket.SOCK_STREAM)\n",
    "s.connect((HOST, PORT))"
   ]
  },
  {
   "cell_type": "code",
   "execution_count": 3,
   "metadata": {
    "collapsed": true
   },
   "outputs": [],
   "source": [
    "# # Authenticate\n",
    "# client_phrase =b\"I am a woman with great aspirations\"\n",
    "# client_key = hashlib.sha1(client_phrase).hexdigest()\n",
    "\n",
    "# app_name = \"Suchi EEG\"\n",
    "\n",
    "# auth_dict = {\"appName\":app_name,\"appKey\":client_key}\n",
    "\n",
    "# auth_msg = json.dumps(auth_dict).encode('ascii')\n",
    "# s.send(auth_msg)"
   ]
  },
  {
   "cell_type": "code",
   "execution_count": 4,
   "metadata": {},
   "outputs": [
    {
     "data": {
      "text/plain": [
       "43"
      ]
     },
     "execution_count": 4,
     "metadata": {},
     "output_type": "execute_result"
    }
   ],
   "source": [
    "#set a server config and validate\n",
    "server_config = json.dumps({\"enableRawOutput\": True, \"format\": \"Json\"}).encode('ascii')\n",
    "s.send(server_config)"
   ]
  },
  {
   "cell_type": "code",
   "execution_count": 5,
   "metadata": {
    "collapsed": true,
    "scrolled": false
   },
   "outputs": [],
   "source": [
    "def get_data(secs=120):\n",
    "    event=input('Enter \\n1 for Baseline \\n2 for Game\\n or 0 for other \\n')\n",
    "    \n",
    "    \n",
    "    if int(event)==2:\n",
    "            event_name='Game_'\n",
    "    elif int(event)==1:\n",
    "            event_name='Baseline_'\n",
    "    else:\n",
    "        event_name='Other_'\n",
    "    \n",
    "    if not(os.path.exists('data')):\n",
    "        print('Creating folder: data..')\n",
    "        os.makedirs('data')\n",
    "    timet=time.strftime(\"%d-%m_%H-%M-%S\")\n",
    "    logdir =event_name+timet +'.json'\n",
    "    logdir = os.path.join('data', logdir)\n",
    "    feeling=input('How are you feeling? ')\n",
    "    task=input('Is there any specific task name? ')\n",
    "#     secs=input('Input recording time: ')\n",
    " \n",
    "    \n",
    "    with open(logdir, 'w', encoding=\"ascii\", newline='\\r\\n') as outfile:\n",
    "        ref = time.time()\n",
    "        while (time.time() - ref) < secs:\n",
    "#         else:\n",
    "#             print (ref)\n",
    "#             try:\n",
    "            response = s.recv(2048).decode('ascii')\n",
    "#             print((time.time() - ref))\n",
    "            outfile.write(response)\n",
    "#             print(\">>>\", response)\n",
    "        \n",
    "#             except:\n",
    "#                 pass\n",
    "            \n",
    "            \n",
    "        metadata={\"metadata\":{\"Feeling\":feeling,\"Time\":timet,\"Task\":task}}\n",
    "        outfile.write(json.dumps(metadata))\n",
    "\n",
    "    return logdir\n",
    "\n"
   ]
  },
  {
   "cell_type": "code",
   "execution_count": 6,
   "metadata": {
    "collapsed": true
   },
   "outputs": [],
   "source": [
    "# print (time.localtime( time.time() ))"
   ]
  },
  {
   "cell_type": "code",
   "execution_count": 7,
   "metadata": {
    "collapsed": true
   },
   "outputs": [],
   "source": [
    "\n",
    "\n",
    "def plot_raw_from_file(fpath):\n",
    "    print(fpath)\n",
    "    eegs = []\n",
    "    for line in open(fpath,'r'):\n",
    "        line=line.strip()\n",
    "        if line!=\"\":\n",
    "            raw_eeg = json.loads(line)\n",
    "            if 'rawEeg' in raw_eeg:\n",
    "                eegs.append(raw_eeg['rawEeg'])\n",
    "#             if 'metadata' in raw_eeg:\n",
    "#                 print(raw_eeg)\n",
    "                \n",
    "    fig = plt.figure(figsize=(15,4))\n",
    "    plt.plot(eegs,'r')\n",
    "    plt.title(fpath)\n",
    "    plt.show()\n",
    "#     return eegs"
   ]
  },
  {
   "cell_type": "code",
   "execution_count": 8,
   "metadata": {
    "collapsed": true
   },
   "outputs": [],
   "source": [
    "def get_data_f(secs=30):\n",
    "    event=input('Enter \\n1 for Baseline \\n2 for Game\\n or 0 for other \\n')\n",
    "    \n",
    "    \n",
    "    if int(event)==2:\n",
    "            event_name='Game_'\n",
    "    elif int(event)==1:\n",
    "            event_name='Baseline_'\n",
    "    else:\n",
    "        event_name='Other_'\n",
    "    \n",
    "    if not(os.path.exists('data')):\n",
    "        print('Creating folder: data..')\n",
    "        os.makedirs('data')\n",
    "    timet=time.strftime(\"%d-%m_%H-%M-%S\")\n",
    "    logdir =event_name+timet +'.json'\n",
    "    logdir = os.path.join('data', logdir)\n",
    "    feeling=input('How are you feeling? ')\n",
    "    task=input('Is there any specific task name? ')\n",
    "#     secs=input('Input recording time: ')\n",
    "    with open(logdir, 'w', encoding=\"ascii\", newline='\\r\\n') as outfile:\n",
    "        ref = time.time()\n",
    "        while (time.time() - ref) < secs:\n",
    "            response = s.recv(2048).decode('ascii')\n",
    "    #         print(json.dumps(response))\n",
    "            outfile.write(response)\n",
    "        \n",
    "        metadata={\"metadata\":{\"Feeling\":feeling,\"Time\":timet,\"Task\":task}}\n",
    "        outfile.write(json.dumps(metadata))\n",
    "\n",
    "     "
   ]
  },
  {
   "cell_type": "code",
   "execution_count": null,
   "metadata": {},
   "outputs": [
    {
     "name": "stdout",
     "output_type": "stream",
     "text": [
      "Enter \n",
      "1 for Baseline \n",
      "2 for Game\n",
      " or 0 for other \n",
      "1\n",
      "How are you feeling? 11\n",
      "Is there any specific task name? 11\n"
     ]
    }
   ],
   "source": [
    "\n",
    "file=get_data_f(secs=20)\n",
    "file\n",
    "\n"
   ]
  },
  {
   "cell_type": "code",
   "execution_count": null,
   "metadata": {},
   "outputs": [],
   "source": [
    " plot_raw_from_file(file)"
   ]
  },
  {
   "cell_type": "markdown",
   "metadata": {},
   "source": [
    "# plot_raw_from_file(file)"
   ]
  },
  {
   "cell_type": "code",
   "execution_count": null,
   "metadata": {
    "collapsed": true
   },
   "outputs": [],
   "source": [
    "import pandas as pd\n",
    "\n",
    "path='data'\n",
    "files=!ls data\n",
    "# files\n",
    "df=pd.DataFrame(columns=['eeg','activity','date','time','metadata'])\n",
    "for file in files:\n",
    "    print(file)\n",
    "    if file.endswith('.json'):\n",
    "        eegs = []\n",
    "        filename=path+'/'+file\n",
    "        for line in open(filename,'r'):\n",
    "            line=line.strip()\n",
    "            if line!=\"\":\n",
    "                try:\n",
    "                    raw_eeg = json.loads(line)\n",
    "                    if 'rawEeg' in raw_eeg:\n",
    "                        eegs.append(raw_eeg['rawEeg'])\n",
    "                    if 'metadata' in raw_eeg:\n",
    "                        metadata=raw_eeg\n",
    "                except:\n",
    "                    print('\\n>>>ERROR: cant read a line in',file)\n",
    "                    pass\n",
    "        filesplit=file.split('_')\n",
    "        \n",
    "        activity=filesplit[0]\n",
    "        date=filesplit[1]\n",
    "#         time=filesplit[2][:-5]\n",
    "    #     print(activity,date,time,metadata)\n",
    "        df2=pd.DataFrame([[eegs,activity,date,time,metadata]],columns=['eeg','activity','date','time','metadata'])\n",
    "        df=pd.concat([df2,df])      \n",
    "    \n"
   ]
  },
  {
   "cell_type": "code",
   "execution_count": null,
   "metadata": {
    "collapsed": true,
    "scrolled": false
   },
   "outputs": [],
   "source": [
    "df.shape"
   ]
  },
  {
   "cell_type": "code",
   "execution_count": null,
   "metadata": {
    "collapsed": true
   },
   "outputs": [],
   "source": [
    "df.to_csv('data_after_29_oct.csv',index=False)"
   ]
  },
  {
   "cell_type": "code",
   "execution_count": null,
   "metadata": {
    "collapsed": true
   },
   "outputs": [],
   "source": []
  }
 ],
 "metadata": {
  "anaconda-cloud": {},
  "kernelspec": {
   "display_name": "Python 3",
   "language": "python",
   "name": "python3"
  },
  "language_info": {
   "codemirror_mode": {
    "name": "ipython",
    "version": 3
   },
   "file_extension": ".py",
   "mimetype": "text/x-python",
   "name": "python",
   "nbconvert_exporter": "python",
   "pygments_lexer": "ipython3",
   "version": "3.5.4"
  }
 },
 "nbformat": 4,
 "nbformat_minor": 1
}
