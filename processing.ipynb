{
 "cells": [
  {
   "cell_type": "code",
   "execution_count": 1,
   "metadata": {},
   "outputs": [
    {
     "name": "stdout",
     "output_type": "stream",
     "text": [
      "Populating the interactive namespace from numpy and matplotlib\n"
     ]
    },
    {
     "name": "stderr",
     "output_type": "stream",
     "text": [
      "/Users/sanaiqbal/anaconda/lib/python3.5/site-packages/sklearn/cross_validation.py:41: DeprecationWarning: This module was deprecated in version 0.18 in favor of the model_selection module into which all the refactored classes and functions are moved. Also note that the interface of the new CV iterators are different from that of this module. This module will be removed in 0.20.\n",
      "  \"This module will be removed in 0.20.\", DeprecationWarning)\n"
     ]
    }
   ],
   "source": [
    "%pylab inline\n",
    "import json\n",
    "from xgboost.sklearn import XGBClassifier\n",
    "import xgboost as xgb\n",
    "import sklearn\n",
    "import pandas as pd\n",
    "from typing import Tuple\n",
    "from typing import List\n",
    "import numpy as np\n",
    "\n",
    "# dataset1 = pd.read_csv('data_till_29_oct.csv')\n",
    "# dataset2 = pd.read_csv('data_after_29_oct.csv')\n",
    "# # convert to arrays from strings\n",
    "\n",
    "# dataset=dataset1.append(dataset2)\n",
    "# dataset.eeg = dataset.eeg.map(json.loads)\n",
    "\n",
    "\n",
    "# dataset.to_csv('all_data_labelled.csv',index=False)"
   ]
  },
  {
   "cell_type": "code",
   "execution_count": 40,
   "metadata": {
    "collapsed": true
   },
   "outputs": [],
   "source": [
    "dataset = pd.read_csv('all_data_labelled.csv')\n",
    "dataset.eeg = dataset.eeg.map(json.loads)"
   ]
  },
  {
   "cell_type": "code",
   "execution_count": 41,
   "metadata": {},
   "outputs": [
    {
     "data": {
      "text/html": [
       "<div>\n",
       "<style>\n",
       "    .dataframe thead tr:only-child th {\n",
       "        text-align: right;\n",
       "    }\n",
       "\n",
       "    .dataframe thead th {\n",
       "        text-align: left;\n",
       "    }\n",
       "\n",
       "    .dataframe tbody tr th {\n",
       "        vertical-align: top;\n",
       "    }\n",
       "</style>\n",
       "<table border=\"1\" class=\"dataframe\">\n",
       "  <thead>\n",
       "    <tr style=\"text-align: right;\">\n",
       "      <th></th>\n",
       "      <th>eeg</th>\n",
       "      <th>activity</th>\n",
       "      <th>date</th>\n",
       "      <th>time</th>\n",
       "      <th>metadata</th>\n",
       "      <th>task</th>\n",
       "    </tr>\n",
       "  </thead>\n",
       "  <tbody>\n",
       "    <tr>\n",
       "      <th>0</th>\n",
       "      <td>[-149, 226, 516, 608, 564, 466, 338, 96, 32, -...</td>\n",
       "      <td>nback</td>\n",
       "      <td>20-10</td>\n",
       "      <td>13-12-43</td>\n",
       "      <td>{'metadata': {'Feeling': 'OK', 'Time': '28-10_...</td>\n",
       "      <td>cognitive</td>\n",
       "    </tr>\n",
       "    <tr>\n",
       "      <th>1</th>\n",
       "      <td>[-361, -93, 92, 251, 225, 210, -53, 72, 141, -...</td>\n",
       "      <td>lumositytroublebrewingdivideattention</td>\n",
       "      <td>16-10</td>\n",
       "      <td>13-12-43</td>\n",
       "      <td>{'metadata': {'Feeling': 'OK', 'Time': '28-10_...</td>\n",
       "      <td>cognitive</td>\n",
       "    </tr>\n",
       "    <tr>\n",
       "      <th>2</th>\n",
       "      <td>[-566, -725, -420, -147, -10, 125, 67, -104, -...</td>\n",
       "      <td>lumosityspatial reasoning</td>\n",
       "      <td>16-10</td>\n",
       "      <td>13-12-43</td>\n",
       "      <td>{'metadata': {'Feeling': 'OK', 'Time': '28-10_...</td>\n",
       "      <td>cognitive</td>\n",
       "    </tr>\n",
       "    <tr>\n",
       "      <th>3</th>\n",
       "      <td>[35, -568, -89, -59, -557, -561, -498, -843, 1...</td>\n",
       "      <td>lumosityplayingkoi</td>\n",
       "      <td>11-10</td>\n",
       "      <td>13-12-43</td>\n",
       "      <td>{'metadata': {'Feeling': 'OK', 'Time': '28-10_...</td>\n",
       "      <td>cognitive</td>\n",
       "    </tr>\n",
       "    <tr>\n",
       "      <th>4</th>\n",
       "      <td>[-1075, -1066, -589, -230, 23, 325, 1033, 1073...</td>\n",
       "      <td>lumositypetdetective</td>\n",
       "      <td>16-10</td>\n",
       "      <td>13-12-43</td>\n",
       "      <td>{'metadata': {'Feeling': 'OK', 'Time': '28-10_...</td>\n",
       "      <td>cognitive</td>\n",
       "    </tr>\n",
       "  </tbody>\n",
       "</table>\n",
       "</div>"
      ],
      "text/plain": [
       "                                                 eeg  \\\n",
       "0  [-149, 226, 516, 608, 564, 466, 338, 96, 32, -...   \n",
       "1  [-361, -93, 92, 251, 225, 210, -53, 72, 141, -...   \n",
       "2  [-566, -725, -420, -147, -10, 125, 67, -104, -...   \n",
       "3  [35, -568, -89, -59, -557, -561, -498, -843, 1...   \n",
       "4  [-1075, -1066, -589, -230, 23, 325, 1033, 1073...   \n",
       "\n",
       "                                activity   date      time  \\\n",
       "0                                  nback  20-10  13-12-43   \n",
       "1  lumositytroublebrewingdivideattention  16-10  13-12-43   \n",
       "2              lumosityspatial reasoning  16-10  13-12-43   \n",
       "3                     lumosityplayingkoi  11-10  13-12-43   \n",
       "4                   lumositypetdetective  16-10  13-12-43   \n",
       "\n",
       "                                            metadata       task  \n",
       "0  {'metadata': {'Feeling': 'OK', 'Time': '28-10_...  cognitive  \n",
       "1  {'metadata': {'Feeling': 'OK', 'Time': '28-10_...  cognitive  \n",
       "2  {'metadata': {'Feeling': 'OK', 'Time': '28-10_...  cognitive  \n",
       "3  {'metadata': {'Feeling': 'OK', 'Time': '28-10_...  cognitive  \n",
       "4  {'metadata': {'Feeling': 'OK', 'Time': '28-10_...  cognitive  "
      ]
     },
     "execution_count": 41,
     "metadata": {},
     "output_type": "execute_result"
    }
   ],
   "source": [
    "dataset.head()"
   ]
  },
  {
   "cell_type": "code",
   "execution_count": 4,
   "metadata": {},
   "outputs": [
    {
     "data": {
      "text/plain": [
       "Baseline                                     20\n",
       "Game                                         17\n",
       "Other                                         8\n",
       "lumositypetdetective                          3\n",
       "additionalReinforcementLearningStudy11-10     2\n",
       "lumosityhighwayhazards                        1\n",
       "headspaceBasics                               1\n",
       "lumositylostinmigration                       1\n",
       "headspacebasics4                              1\n",
       "lumosity color1                               1\n",
       "headspacebasics3                              1\n",
       "lumosity CoffeeShop1                          1\n",
       "lumositytroublebrewingdivideattention         1\n",
       "headspacebasics5                              1\n",
       "nback                                         1\n",
       "lumosityplayingkoi                            1\n",
       "lumosityTrainOfThought                        1\n",
       "headspaceSession1                             1\n",
       "lumosityebbflow                               1\n",
       "lumosityspatial reasoning                     1\n",
       "lumosity tidalTreasures1                      1\n",
       "lumosityclickGreaterNo                        1\n",
       "headspacebasics2                              1\n",
       "lumosityebbchange                             1\n",
       "headspaceProductivity1                        1\n",
       "lumosityRiverranger                           1\n",
       "Name: activity, dtype: int64"
      ]
     },
     "execution_count": 4,
     "metadata": {},
     "output_type": "execute_result"
    }
   ],
   "source": [
    "dataset['activity'].value_counts()"
   ]
  },
  {
   "cell_type": "code",
   "execution_count": null,
   "metadata": {
    "collapsed": true
   },
   "outputs": [],
   "source": [
    "dataset['task']=dataset['activity']"
   ]
  },
  {
   "cell_type": "code",
   "execution_count": 6,
   "metadata": {},
   "outputs": [
    {
     "data": {
      "text/plain": [
       "[30, 51, 62, 63, 64, 65]"
      ]
     },
     "execution_count": 6,
     "metadata": {},
     "output_type": "execute_result"
    }
   ],
   "source": [
    "lengths_of_eeg=dataset['eeg'].apply(lambda x:len(x))\n",
    "# min(lengths_of_eeg)\n",
    "\n",
    "rm=[i for i, j in enumerate(lengths_of_eeg) if j == 0]\n",
    "rm"
   ]
  },
  {
   "cell_type": "code",
   "execution_count": 7,
   "metadata": {},
   "outputs": [
    {
     "data": {
      "text/plain": [
       "1180"
      ]
     },
     "execution_count": 7,
     "metadata": {},
     "output_type": "execute_result"
    }
   ],
   "source": [
    "# drop any eeg of len 0\n",
    "dataset=dataset.drop(dataset.index[[rm]])\n",
    "lengths_of_eeg=dataset['eeg'].apply(lambda x:len(x))\n",
    "min(lengths_of_eeg)\n"
   ]
  },
  {
   "cell_type": "code",
   "execution_count": 28,
   "metadata": {
    "collapsed": true
   },
   "outputs": [],
   "source": [
    "\n",
    "def partition(lst, size):\n",
    "    \n",
    "    \"\"\"split eeg list into partitions of size 'size\"\"\"\n",
    "    \n",
    "    if len(lst)<size:\n",
    "        return []\n",
    "    else:\n",
    "        lists=[]\n",
    "\n",
    "        for i  in range(0, len(lst), size):\n",
    "            if len(lst[i:i+size])==size:\n",
    "                lists.append(lst[i:i+size])\n",
    "\n",
    "        return lists\n",
    "    \n",
    "    \n",
    "from numpy import dot\n",
    "from numpy.linalg import norm\n",
    "\n",
    "def cosine_similarity(a,b):\n",
    "    return  dot(a, b)/(norm(a)*norm(b))\n",
    "                      \n",
    "        \n"
   ]
  },
  {
   "cell_type": "code",
   "execution_count": 29,
   "metadata": {},
   "outputs": [
    {
     "data": {
      "text/plain": [
       "[[1, 2, 3, 4, 5, 6, 7, 8, 9]]"
      ]
     },
     "execution_count": 29,
     "metadata": {},
     "output_type": "execute_result"
    }
   ],
   "source": [
    "partition([1,2,3,4,5,6,7,8,9,10],9)"
   ]
  },
  {
   "cell_type": "code",
   "execution_count": 30,
   "metadata": {
    "collapsed": true
   },
   "outputs": [],
   "source": [
    "# partition each  eeg entry into equal length lists\n",
    "dataset['eeg']=dataset['eeg'].apply(lambda x:partition(x,500))"
   ]
  },
  {
   "cell_type": "code",
   "execution_count": 31,
   "metadata": {
    "collapsed": true
   },
   "outputs": [],
   "source": [
    "# dataset['eeg']"
   ]
  },
  {
   "cell_type": "code",
   "execution_count": 32,
   "metadata": {
    "collapsed": true
   },
   "outputs": [],
   "source": [
    "def to_power_spectrum (raw_readings):\n",
    "    '''\n",
    "    Take raw voltages,\n",
    "    transform into frequency domain,\n",
    "    return a power spectrum.\n",
    "    \n",
    "    '''\n",
    "    \n",
    "    sampling_rate=len(raw_readings)\n",
    "    # FFT the raw readings\n",
    "    fftd = np.fft.fft(raw_readings)\n",
    "    # take absolute value\n",
    "    # producing a symmetrical power spectrum\n",
    "    ps = np.abs(fftd)**2\n",
    "    # since the power spectrum is symmetrical, \n",
    "    # take half\n",
    "    half_len = len(ps)//2\n",
    "    ps = ps[:half_len]\n",
    "#     # we'll calculate the frequencies\n",
    "    window_size = len(raw_readings)\n",
    "    freqs = numpy.fft.fftfreq(window_size,d=1/sampling_rate)\n",
    "#     # splitting that in half to match\n",
    "    freqs = freqs[:half_len]\n",
    "    power_spectrum = pd.DataFrame({\n",
    "        'frequency (Hz)': freqs,\n",
    "        'magnitude': ps,\n",
    "    })\n",
    "    return power_spectrum\n",
    "def bandpass (\n",
    "    power_spec: pd.Series,\n",
    "    low_cutoff: float,\n",
    "    high_cutoff: float,)-> pd.Series:\n",
    "    \n",
    "    '''\"zooming in\" or \"cropping\" to these frequencies.'''\n",
    "    \n",
    "    return power_spec[(power_spec['frequency (Hz)'] > low_cutoff) & \n",
    "                      (power_spec['frequency (Hz)'] < high_cutoff)]\n"
   ]
  },
  {
   "cell_type": "code",
   "execution_count": 38,
   "metadata": {},
   "outputs": [],
   "source": [
    "def plot_eeg(group,date):\n",
    "    colormap=['red','green','black','blue','aqua','pink']\n",
    "    counter=0\n",
    "    plt.figure(figsize=(20,5),dpi=150)\n",
    "    for i, row in group.iterrows():\n",
    "#         print(row['eeg'])\n",
    "#         print(i)\n",
    "        plt.plot(row['eeg'][1],color=colormap[counter], linestyle='-', label=row['activity'],linewidth = 1)\n",
    "        counter+=1\n",
    "    plt.title('RAW-EEG for'+date)\n",
    "    plt.legend()\n",
    "    plt.show()\n",
    "        \n",
    "        \n",
    "def pickup_randomchunk(raw_reading_chunks):\n",
    "    '''this function picks a random chunk from the partitioned signal'''\n",
    "    index = np.random.randint(len(raw_reading_chunks))\n",
    "#     print(raw_reading_chunks [index])\n",
    "    return raw_reading_chunks [index]  \n",
    "\n",
    "\n",
    "def plot_fft_eeg(group,date):\n",
    "    colormap=['red','green','black','blue','aqua','pink']\n",
    "    counter=0\n",
    "    plt.figure(figsize=(20,5),dpi=150)\n",
    "    plt.axvline(x=0.5,linewidth = 1.5)\n",
    "    plt.text(0.5,0,'delta',rotation=90)\n",
    "    plt.axvline(x=4,linewidth = 1.5)\n",
    "    plt.text(4,1,'theta',rotation=90)\n",
    "    plt.axvline(x=8,linewidth = 1.5)\n",
    "    plt.text(8,1,'alpha',rotation=90)\n",
    "    plt.axvline(x=13,linewidth = 1.5)\n",
    "    plt.text(13,1,'beta',rotation=90)\n",
    "    plt.axvline(x=30,linewidth = 1.5)\n",
    "    plt.text(30,1,'gamma',rotation=90)\n",
    "   \n",
    "    for i, row in group.iterrows():\n",
    "        if len(row['eeg'])>0:\n",
    "# put condition to get second list of each eeg -inserting 1 in >>>row['eeg'][1]\n",
    "        \n",
    "            power_spec=to_power_spectrum(pickup_randomchunk(row['eeg']))\n",
    "            plt.plot(bandpass(power_spec,0,30),color=colormap[counter], label=row['task'],linewidth = 1.5)\n",
    "        counter+=1\n",
    "    plt.title('500 size eeg -> FFT PLOT for'+date)\n",
    "    plt.legend()\n",
    "    plt.show()\n",
    "        "
   ]
  },
  {
   "cell_type": "code",
   "execution_count": 39,
   "metadata": {
    "scrolled": true
   },
   "outputs": [
    {
     "name": "stdout",
     "output_type": "stream",
     "text": [
      "Date 02-11\n"
     ]
    },
    {
     "ename": "KeyError",
     "evalue": "'task'",
     "output_type": "error",
     "traceback": [
      "\u001b[0;31m---------------------------------------------------------------------------\u001b[0m",
      "\u001b[0;31mTypeError\u001b[0m                                 Traceback (most recent call last)",
      "\u001b[0;32m~/anaconda/lib/python3.5/site-packages/pandas/core/indexes/base.py\u001b[0m in \u001b[0;36mget_value\u001b[0;34m(self, series, key)\u001b[0m\n\u001b[1;32m   2482\u001b[0m             \u001b[0;32mtry\u001b[0m\u001b[0;34m:\u001b[0m\u001b[0;34m\u001b[0m\u001b[0m\n\u001b[0;32m-> 2483\u001b[0;31m                 \u001b[0;32mreturn\u001b[0m \u001b[0mlibts\u001b[0m\u001b[0;34m.\u001b[0m\u001b[0mget_value_box\u001b[0m\u001b[0;34m(\u001b[0m\u001b[0ms\u001b[0m\u001b[0;34m,\u001b[0m \u001b[0mkey\u001b[0m\u001b[0;34m)\u001b[0m\u001b[0;34m\u001b[0m\u001b[0m\n\u001b[0m\u001b[1;32m   2484\u001b[0m             \u001b[0;32mexcept\u001b[0m \u001b[0mIndexError\u001b[0m\u001b[0;34m:\u001b[0m\u001b[0;34m\u001b[0m\u001b[0m\n",
      "\u001b[0;32mpandas/_libs/tslib.pyx\u001b[0m in \u001b[0;36mpandas._libs.tslib.get_value_box (pandas/_libs/tslib.c:18843)\u001b[0;34m()\u001b[0m\n",
      "\u001b[0;32mpandas/_libs/tslib.pyx\u001b[0m in \u001b[0;36mpandas._libs.tslib.get_value_box (pandas/_libs/tslib.c:18477)\u001b[0;34m()\u001b[0m\n",
      "\u001b[0;31mTypeError\u001b[0m: 'str' object cannot be interpreted as an integer",
      "\nDuring handling of the above exception, another exception occurred:\n",
      "\u001b[0;31mKeyError\u001b[0m                                  Traceback (most recent call last)",
      "\u001b[0;32m<ipython-input-39-70b863c74c78>\u001b[0m in \u001b[0;36m<module>\u001b[0;34m()\u001b[0m\n\u001b[1;32m      3\u001b[0m \u001b[0;31m#     print(type(date),type(group),group)\u001b[0m\u001b[0;34m\u001b[0m\u001b[0;34m\u001b[0m\u001b[0m\n\u001b[1;32m      4\u001b[0m \u001b[0;31m#     plot_eeg(group,date)\u001b[0m\u001b[0;34m\u001b[0m\u001b[0;34m\u001b[0m\u001b[0m\n\u001b[0;32m----> 5\u001b[0;31m     \u001b[0mplot_fft_eeg\u001b[0m\u001b[0;34m(\u001b[0m\u001b[0mgroup\u001b[0m\u001b[0;34m,\u001b[0m\u001b[0mdate\u001b[0m\u001b[0;34m)\u001b[0m\u001b[0;34m\u001b[0m\u001b[0m\n\u001b[0m",
      "\u001b[0;32m<ipython-input-38-54d39ddbc7d8>\u001b[0m in \u001b[0;36mplot_fft_eeg\u001b[0;34m(group, date)\u001b[0m\n\u001b[1;32m     40\u001b[0m \u001b[0;34m\u001b[0m\u001b[0m\n\u001b[1;32m     41\u001b[0m             \u001b[0mpower_spec\u001b[0m\u001b[0;34m=\u001b[0m\u001b[0mto_power_spectrum\u001b[0m\u001b[0;34m(\u001b[0m\u001b[0mpickup_randomchunk\u001b[0m\u001b[0;34m(\u001b[0m\u001b[0mrow\u001b[0m\u001b[0;34m[\u001b[0m\u001b[0;34m'eeg'\u001b[0m\u001b[0;34m]\u001b[0m\u001b[0;34m)\u001b[0m\u001b[0;34m)\u001b[0m\u001b[0;34m\u001b[0m\u001b[0m\n\u001b[0;32m---> 42\u001b[0;31m             \u001b[0mplt\u001b[0m\u001b[0;34m.\u001b[0m\u001b[0mplot\u001b[0m\u001b[0;34m(\u001b[0m\u001b[0mbandpass\u001b[0m\u001b[0;34m(\u001b[0m\u001b[0mpower_spec\u001b[0m\u001b[0;34m,\u001b[0m\u001b[0;36m0\u001b[0m\u001b[0;34m,\u001b[0m\u001b[0;36m30\u001b[0m\u001b[0;34m)\u001b[0m\u001b[0;34m,\u001b[0m\u001b[0mcolor\u001b[0m\u001b[0;34m=\u001b[0m\u001b[0mcolormap\u001b[0m\u001b[0;34m[\u001b[0m\u001b[0mcounter\u001b[0m\u001b[0;34m]\u001b[0m\u001b[0;34m,\u001b[0m \u001b[0mlabel\u001b[0m\u001b[0;34m=\u001b[0m\u001b[0mrow\u001b[0m\u001b[0;34m[\u001b[0m\u001b[0;34m'task'\u001b[0m\u001b[0;34m]\u001b[0m\u001b[0;34m,\u001b[0m\u001b[0mlinewidth\u001b[0m \u001b[0;34m=\u001b[0m \u001b[0;36m1.5\u001b[0m\u001b[0;34m)\u001b[0m\u001b[0;34m\u001b[0m\u001b[0m\n\u001b[0m\u001b[1;32m     43\u001b[0m         \u001b[0mcounter\u001b[0m\u001b[0;34m+=\u001b[0m\u001b[0;36m1\u001b[0m\u001b[0;34m\u001b[0m\u001b[0m\n\u001b[1;32m     44\u001b[0m     \u001b[0mplt\u001b[0m\u001b[0;34m.\u001b[0m\u001b[0mtitle\u001b[0m\u001b[0;34m(\u001b[0m\u001b[0;34m'500 size eeg -> FFT PLOT for'\u001b[0m\u001b[0;34m+\u001b[0m\u001b[0mdate\u001b[0m\u001b[0;34m)\u001b[0m\u001b[0;34m\u001b[0m\u001b[0m\n",
      "\u001b[0;32m~/anaconda/lib/python3.5/site-packages/pandas/core/series.py\u001b[0m in \u001b[0;36m__getitem__\u001b[0;34m(self, key)\u001b[0m\n\u001b[1;32m    599\u001b[0m         \u001b[0mkey\u001b[0m \u001b[0;34m=\u001b[0m \u001b[0mcom\u001b[0m\u001b[0;34m.\u001b[0m\u001b[0m_apply_if_callable\u001b[0m\u001b[0;34m(\u001b[0m\u001b[0mkey\u001b[0m\u001b[0;34m,\u001b[0m \u001b[0mself\u001b[0m\u001b[0;34m)\u001b[0m\u001b[0;34m\u001b[0m\u001b[0m\n\u001b[1;32m    600\u001b[0m         \u001b[0;32mtry\u001b[0m\u001b[0;34m:\u001b[0m\u001b[0;34m\u001b[0m\u001b[0m\n\u001b[0;32m--> 601\u001b[0;31m             \u001b[0mresult\u001b[0m \u001b[0;34m=\u001b[0m \u001b[0mself\u001b[0m\u001b[0;34m.\u001b[0m\u001b[0mindex\u001b[0m\u001b[0;34m.\u001b[0m\u001b[0mget_value\u001b[0m\u001b[0;34m(\u001b[0m\u001b[0mself\u001b[0m\u001b[0;34m,\u001b[0m \u001b[0mkey\u001b[0m\u001b[0;34m)\u001b[0m\u001b[0;34m\u001b[0m\u001b[0m\n\u001b[0m\u001b[1;32m    602\u001b[0m \u001b[0;34m\u001b[0m\u001b[0m\n\u001b[1;32m    603\u001b[0m             \u001b[0;32mif\u001b[0m \u001b[0;32mnot\u001b[0m \u001b[0mis_scalar\u001b[0m\u001b[0;34m(\u001b[0m\u001b[0mresult\u001b[0m\u001b[0;34m)\u001b[0m\u001b[0;34m:\u001b[0m\u001b[0;34m\u001b[0m\u001b[0m\n",
      "\u001b[0;32m~/anaconda/lib/python3.5/site-packages/pandas/core/indexes/base.py\u001b[0m in \u001b[0;36mget_value\u001b[0;34m(self, series, key)\u001b[0m\n\u001b[1;32m   2489\u001b[0m                     \u001b[0;32mraise\u001b[0m \u001b[0mInvalidIndexError\u001b[0m\u001b[0;34m(\u001b[0m\u001b[0mkey\u001b[0m\u001b[0;34m)\u001b[0m\u001b[0;34m\u001b[0m\u001b[0m\n\u001b[1;32m   2490\u001b[0m                 \u001b[0;32melse\u001b[0m\u001b[0;34m:\u001b[0m\u001b[0;34m\u001b[0m\u001b[0m\n\u001b[0;32m-> 2491\u001b[0;31m                     \u001b[0;32mraise\u001b[0m \u001b[0me1\u001b[0m\u001b[0;34m\u001b[0m\u001b[0m\n\u001b[0m\u001b[1;32m   2492\u001b[0m             \u001b[0;32mexcept\u001b[0m \u001b[0mException\u001b[0m\u001b[0;34m:\u001b[0m  \u001b[0;31m# pragma: no cover\u001b[0m\u001b[0;34m\u001b[0m\u001b[0m\n\u001b[1;32m   2493\u001b[0m                 \u001b[0;32mraise\u001b[0m \u001b[0me1\u001b[0m\u001b[0;34m\u001b[0m\u001b[0m\n",
      "\u001b[0;32m~/anaconda/lib/python3.5/site-packages/pandas/core/indexes/base.py\u001b[0m in \u001b[0;36mget_value\u001b[0;34m(self, series, key)\u001b[0m\n\u001b[1;32m   2475\u001b[0m         \u001b[0;32mtry\u001b[0m\u001b[0;34m:\u001b[0m\u001b[0;34m\u001b[0m\u001b[0m\n\u001b[1;32m   2476\u001b[0m             return self._engine.get_value(s, k,\n\u001b[0;32m-> 2477\u001b[0;31m                                           tz=getattr(series.dtype, 'tz', None))\n\u001b[0m\u001b[1;32m   2478\u001b[0m         \u001b[0;32mexcept\u001b[0m \u001b[0mKeyError\u001b[0m \u001b[0;32mas\u001b[0m \u001b[0me1\u001b[0m\u001b[0;34m:\u001b[0m\u001b[0;34m\u001b[0m\u001b[0m\n\u001b[1;32m   2479\u001b[0m             \u001b[0;32mif\u001b[0m \u001b[0mlen\u001b[0m\u001b[0;34m(\u001b[0m\u001b[0mself\u001b[0m\u001b[0;34m)\u001b[0m \u001b[0;34m>\u001b[0m \u001b[0;36m0\u001b[0m \u001b[0;32mand\u001b[0m \u001b[0mself\u001b[0m\u001b[0;34m.\u001b[0m\u001b[0minferred_type\u001b[0m \u001b[0;32min\u001b[0m \u001b[0;34m[\u001b[0m\u001b[0;34m'integer'\u001b[0m\u001b[0;34m,\u001b[0m \u001b[0;34m'boolean'\u001b[0m\u001b[0;34m]\u001b[0m\u001b[0;34m:\u001b[0m\u001b[0;34m\u001b[0m\u001b[0m\n",
      "\u001b[0;32mpandas/_libs/index.pyx\u001b[0m in \u001b[0;36mpandas._libs.index.IndexEngine.get_value (pandas/_libs/index.c:4404)\u001b[0;34m()\u001b[0m\n",
      "\u001b[0;32mpandas/_libs/index.pyx\u001b[0m in \u001b[0;36mpandas._libs.index.IndexEngine.get_value (pandas/_libs/index.c:4087)\u001b[0;34m()\u001b[0m\n",
      "\u001b[0;32mpandas/_libs/index.pyx\u001b[0m in \u001b[0;36mpandas._libs.index.IndexEngine.get_loc (pandas/_libs/index.c:5126)\u001b[0;34m()\u001b[0m\n",
      "\u001b[0;32mpandas/_libs/hashtable_class_helper.pxi\u001b[0m in \u001b[0;36mpandas._libs.hashtable.PyObjectHashTable.get_item (pandas/_libs/hashtable.c:20523)\u001b[0;34m()\u001b[0m\n",
      "\u001b[0;32mpandas/_libs/hashtable_class_helper.pxi\u001b[0m in \u001b[0;36mpandas._libs.hashtable.PyObjectHashTable.get_item (pandas/_libs/hashtable.c:20477)\u001b[0;34m()\u001b[0m\n",
      "\u001b[0;31mKeyError\u001b[0m: 'task'"
     ]
    },
    {
     "data": {
      "image/png": "[encoded data removed]",
      "text/plain": [
       "<matplotlib.figure.Figure at 0x11a573978>"
      ]
     },
     "metadata": {},
     "output_type": "display_data"
    }
   ],
   "source": [
    "for date, group in dataset.groupby('date'): \n",
    "    print('Date', date)\n",
    "#     print(type(date),type(group),group)\n",
    "#     plot_eeg(group,date)\n",
    "    plot_fft_eeg(group,date)\n"
   ]
  },
  {
   "cell_type": "code",
   "execution_count": 15,
   "metadata": {},
   "outputs": [
    {
     "data": {
      "text/plain": [
       "Index(['eeg', 'activity', 'date', 'time', 'metadata'], dtype='object')"
      ]
     },
     "execution_count": 15,
     "metadata": {},
     "output_type": "execute_result"
    }
   ],
   "source": [
    "dataset.columns"
   ]
  },
  {
   "cell_type": "markdown",
   "metadata": {},
   "source": [
    "# lets us store second vector of each eeg in the  eeg_1 column of the dataset and find cosine similarity between them\n"
   ]
  },
  {
   "cell_type": "code",
   "execution_count": 16,
   "metadata": {
    "collapsed": true
   },
   "outputs": [],
   "source": [
    "dataset['eeg_1']=dataset['eeg'].apply(lambda x:x[1])"
   ]
  },
  {
   "cell_type": "code",
   "execution_count": 17,
   "metadata": {
    "collapsed": true
   },
   "outputs": [],
   "source": [
    "sample=dataset['eeg_1'].tolist()"
   ]
  },
  {
   "cell_type": "code",
   "execution_count": 18,
   "metadata": {
    "collapsed": true
   },
   "outputs": [],
   "source": [
    "s=np.array(sample)\n",
    "s=s.reshape(len(dataset),500)"
   ]
  },
  {
   "cell_type": "code",
   "execution_count": 19,
   "metadata": {},
   "outputs": [
    {
     "data": {
      "text/plain": [
       "array([[ 1.        , -0.0156865 ,  0.053006  ,  0.03261868,  0.09229928],\n",
       "       [-0.0156865 ,  1.        ,  0.04646422, -0.03987781,  0.15130389],\n",
       "       [ 0.053006  ,  0.04646422,  1.        , -0.02332764,  0.03998313],\n",
       "       [ 0.03261868, -0.03987781, -0.02332764,  1.        , -0.02823984],\n",
       "       [ 0.09229928,  0.15130389,  0.03998313, -0.02823984,  1.        ]])"
      ]
     },
     "execution_count": 19,
     "metadata": {},
     "output_type": "execute_result"
    }
   ],
   "source": [
    "import numpy as np\n",
    "from sklearn.metrics.pairwise import cosine_similarity\n",
    "\n",
    "\n",
    "cosine_similarity(s[:5,:])"
   ]
  },
  {
   "cell_type": "code",
   "execution_count": 20,
   "metadata": {},
   "outputs": [
    {
     "name": "stdout",
     "output_type": "stream",
     "text": [
      "\n",
      "+++++++++++++++++++++++++++++++++++++\n",
      "Activity:-  Baseline\n",
      "[[ 1306  1265  1300 ...,   454  1233   643]\n",
      " [ -413  -171  -103 ...,  -281  -138   315]\n",
      " [    6    57    66 ...,    60    59    36]\n",
      " ..., \n",
      " [  314  2047 -2048 ...,   -54    12    23]\n",
      " [ -369 -2048 -1134 ...,    -4    10    16]\n",
      " [  -57   -29     7 ...,    53    19    41]]\n",
      "[[  1.00000000e+00   3.39494809e-02  -3.50259714e-03  -2.64881078e-02\n",
      "    1.49713082e-02   2.74851034e-02   7.46362132e-03  -1.19768672e-02\n",
      "   -1.15500299e-02   1.25930148e-02   9.79896292e-04   5.54654240e-02\n",
      "    1.59110652e-02   2.28986414e-02  -6.49432353e-02  -9.55799684e-03]\n",
      " [  3.39494809e-02   1.00000000e+00   8.14330561e-02  -3.61323048e-02\n",
      "    6.66364836e-02   9.00103960e-02   2.00981072e-02   8.92888945e-02\n",
      "   -8.16715199e-02   1.19658702e-02   5.93541445e-02   1.25847315e-01\n",
      "    4.09672156e-02   2.35025954e-02   1.07311869e-01   5.62548609e-02]\n",
      " [ -3.50259714e-03   8.14330561e-02   1.00000000e+00   4.46018487e-02\n",
      "    1.44594968e-01   4.94123473e-02  -4.47859327e-02   2.15475095e-01\n",
      "   -9.32020218e-02   1.23374477e-01  -1.49789771e-01  -5.41422840e-02\n",
      "    8.62347759e-02   5.56236529e-02   3.14276049e-02   5.06143356e-02]\n",
      " [ -2.64881078e-02  -3.61323048e-02   4.46018487e-02   1.00000000e+00\n",
      "    1.39613905e-01   1.63304298e-01   2.66248145e-01   1.36464891e-01\n",
      "    5.39100190e-02   1.73962280e-01   8.69462944e-02   9.02585796e-03\n",
      "    1.62031832e-01   8.83900968e-02   2.71132740e-02   1.04662782e-01]\n",
      " [  1.49713082e-02   6.66364836e-02   1.44594968e-01   1.39613905e-01\n",
      "    1.00000000e+00   1.22371075e-01   5.42825320e-02   4.49116618e-01\n",
      "   -1.44236565e-02   2.47402934e-01   1.15898318e-01   2.03514292e-01\n",
      "    1.46920407e-01   4.11321966e-02   5.21010884e-02   2.83904796e-01]\n",
      " [  2.74851034e-02   9.00103960e-02   4.94123473e-02   1.63304298e-01\n",
      "    1.22371075e-01   1.00000000e+00  -1.51050270e-02   1.25583481e-01\n",
      "    6.80036314e-02   1.53166157e-01   4.88780695e-02   1.12349035e-01\n",
      "    2.59433569e-02  -8.65759588e-02   9.26719222e-04   3.12297946e-02]\n",
      " [  7.46362132e-03   2.00981072e-02  -4.47859327e-02   2.66248145e-01\n",
      "    5.42825320e-02  -1.51050270e-02   1.00000000e+00   9.62527317e-02\n",
      "   -1.11126909e-01   2.00452445e-02  -1.47960803e-01   1.81830110e-02\n",
      "    8.34686123e-02   6.52871787e-02  -5.14258133e-02   4.13938242e-03]\n",
      " [ -1.19768672e-02   8.92888945e-02   2.15475095e-01   1.36464891e-01\n",
      "    4.49116618e-01   1.25583481e-01   9.62527317e-02   1.00000000e+00\n",
      "    5.25299880e-02   3.64815658e-01   1.25046661e-01   1.25442373e-01\n",
      "    1.01132136e-01   8.54271615e-03   1.12047460e-01   3.24433436e-01]\n",
      " [ -1.15500299e-02  -8.16715199e-02  -9.32020218e-02   5.39100190e-02\n",
      "   -1.44236565e-02   6.80036314e-02  -1.11126909e-01   5.25299880e-02\n",
      "    1.00000000e+00   1.02993875e-02   1.65906598e-01  -3.36875588e-02\n",
      "   -5.37679743e-02  -3.82168697e-02   3.86835909e-03  -7.89990594e-02]\n",
      " [  1.25930148e-02   1.19658702e-02   1.23374477e-01   1.73962280e-01\n",
      "    2.47402934e-01   1.53166157e-01   2.00452445e-02   3.64815658e-01\n",
      "    1.02993875e-02   1.00000000e+00   1.08448512e-01   7.76747691e-02\n",
      "    8.45798773e-03   5.36075747e-02   2.24953471e-03   1.57216114e-01]\n",
      " [  9.79896292e-04   5.93541445e-02  -1.49789771e-01   8.69462944e-02\n",
      "    1.15898318e-01   4.88780695e-02  -1.47960803e-01   1.25046661e-01\n",
      "    1.65906598e-01   1.08448512e-01   1.00000000e+00   6.83656683e-02\n",
      "   -4.22499575e-02   2.08172864e-02   2.64810209e-02   1.53049849e-01]\n",
      " [  5.54654240e-02   1.25847315e-01  -5.41422840e-02   9.02585796e-03\n",
      "    2.03514292e-01   1.12349035e-01   1.81830110e-02   1.25442373e-01\n",
      "   -3.36875588e-02   7.76747691e-02   6.83656683e-02   1.00000000e+00\n",
      "   -2.40120740e-02  -1.70280238e-02  -1.91209558e-02   8.27805711e-02]\n",
      " [  1.59110652e-02   4.09672156e-02   8.62347759e-02   1.62031832e-01\n",
      "    1.46920407e-01   2.59433569e-02   8.34686123e-02   1.01132136e-01\n",
      "   -5.37679743e-02   8.45798773e-03  -4.22499575e-02  -2.40120740e-02\n",
      "    1.00000000e+00   4.65849347e-02   7.31398971e-02   3.60664935e-02]\n",
      " [  2.28986414e-02   2.35025954e-02   5.56236529e-02   8.83900968e-02\n",
      "    4.11321966e-02  -8.65759588e-02   6.52871787e-02   8.54271615e-03\n",
      "   -3.82168697e-02   5.36075747e-02   2.08172864e-02  -1.70280238e-02\n",
      "    4.65849347e-02   1.00000000e+00   4.14707760e-02  -1.73750921e-02]\n",
      " [ -6.49432353e-02   1.07311869e-01   3.14276049e-02   2.71132740e-02\n",
      "    5.21010884e-02   9.26719222e-04  -5.14258133e-02   1.12047460e-01\n",
      "    3.86835909e-03   2.24953471e-03   2.64810209e-02  -1.91209558e-02\n",
      "    7.31398971e-02   4.14707760e-02   1.00000000e+00   6.08352912e-02]\n",
      " [ -9.55799684e-03   5.62548609e-02   5.06143356e-02   1.04662782e-01\n",
      "    2.83904796e-01   3.12297946e-02   4.13938242e-03   3.24433436e-01\n",
      "   -7.89990594e-02   1.57216114e-01   1.53049849e-01   8.27805711e-02\n",
      "    3.60664935e-02  -1.73750921e-02   6.08352912e-02   1.00000000e+00]]\n",
      "\n",
      "+++++++++++++++++++++++++++++++++++++\n",
      "Activity:-  Game\n",
      "[[  36   28   70 ...,   45   22   16]\n",
      " [  59  -34   55 ...,   39  -11   -6]\n",
      " [  42   26   70 ...,   64   92  122]\n",
      " ..., \n",
      " [-440 -289 -184 ..., -727 -485 -126]\n",
      " [  86   -7   48 ...,   58   49   41]\n",
      " [-211   34  102 ...,  -86   23   -4]]\n",
      "[[  1.00000000e+00   5.32547728e-02   3.17040213e-01   5.95238363e-02\n",
      "    9.47460137e-02   1.44990862e-01   3.12337916e-01   2.22948955e-01\n",
      "    2.87610056e-01   1.46173453e-01   3.51443681e-01   2.77015010e-01\n",
      "    2.35360025e-01   5.41868526e-02  -1.32384850e-02   4.99124862e-01\n",
      "    8.96426915e-02]\n",
      " [  5.32547728e-02   1.00000000e+00   2.77963860e-02   1.66693664e-02\n",
      "   -2.13789158e-02  -1.26892932e-03  -4.77514402e-02  -4.34274703e-02\n",
      "    2.52727459e-02  -1.16684737e-03   2.18054123e-02   5.03703715e-03\n",
      "    3.64541988e-02  -4.50571720e-02  -1.08772480e-02   1.14416196e-01\n",
      "    2.22896949e-03]\n",
      " [  3.17040213e-01   2.77963860e-02   1.00000000e+00   2.22235624e-02\n",
      "    5.15491926e-02   5.87863257e-02   1.28141317e-01   4.61601152e-02\n",
      "    2.16919801e-01   1.19186381e-01   1.14313600e-01   2.23515173e-01\n",
      "    1.20007255e-01  -5.76377674e-02  -5.61799569e-02   2.52883071e-01\n",
      "    4.98899920e-02]\n",
      " [  5.95238363e-02   1.66693664e-02   2.22235624e-02   1.00000000e+00\n",
      "   -1.00449647e-01  -4.73793364e-02   1.53150150e-01  -7.17144719e-02\n",
      "   -2.05133419e-02   6.02236815e-02   3.22534623e-03   6.63056170e-02\n",
      "    1.23449147e-02  -5.99005736e-02   1.63282467e-03   7.45510552e-02\n",
      "    1.53399962e-01]\n",
      " [  9.47460137e-02  -2.13789158e-02   5.15491926e-02  -1.00449647e-01\n",
      "    1.00000000e+00   2.00107185e-01   6.21669103e-02   3.35536761e-02\n",
      "    5.64365247e-02   1.37438727e-02   7.83482285e-02   5.33703236e-02\n",
      "    2.64088436e-02   3.16285448e-02  -4.47038362e-03   1.05147966e-01\n",
      "    3.98490571e-02]\n",
      " [  1.44990862e-01  -1.26892932e-03   5.87863257e-02  -4.73793364e-02\n",
      "    2.00107185e-01   1.00000000e+00   5.58180169e-02   4.31540107e-03\n",
      "    3.32871185e-02   5.29194691e-02   9.48482548e-02  -1.47592130e-03\n",
      "    6.15825689e-02   1.85037916e-02   3.88943588e-02   1.38124295e-01\n",
      "   -2.42270281e-02]\n",
      " [  3.12337916e-01  -4.77514402e-02   1.28141317e-01   1.53150150e-01\n",
      "    6.21669103e-02   5.58180169e-02   1.00000000e+00   1.64993905e-01\n",
      "    1.62579337e-01   9.69826578e-02   2.42062958e-01   2.18982777e-01\n",
      "    1.40909904e-01   1.43005538e-03   9.77173804e-02   3.48980453e-01\n",
      "    5.85655757e-02]\n",
      " [  2.22948955e-01  -4.34274703e-02   4.61601152e-02  -7.17144719e-02\n",
      "    3.35536761e-02   4.31540107e-03   1.64993905e-01   1.00000000e+00\n",
      "    1.09139148e-01   4.97317264e-02   8.94097074e-02   9.25780154e-02\n",
      "    4.30890802e-02   4.81019863e-03  -6.25244751e-02   2.66356574e-01\n",
      "    8.64543713e-02]\n",
      " [  2.87610056e-01   2.52727459e-02   2.16919801e-01  -2.05133419e-02\n",
      "    5.64365247e-02   3.32871185e-02   1.62579337e-01   1.09139148e-01\n",
      "    1.00000000e+00   1.18042471e-01   2.28756060e-01   1.68263895e-01\n",
      "    1.25320052e-01   3.72775330e-02  -4.43512870e-02   3.39997028e-01\n",
      "    1.30552318e-01]\n",
      " [  1.46173453e-01  -1.16684737e-03   1.19186381e-01   6.02236815e-02\n",
      "    1.37438727e-02   5.29194691e-02   9.69826578e-02   4.97317264e-02\n",
      "    1.18042471e-01   1.00000000e+00   4.58210301e-02   9.81040590e-02\n",
      "    1.33439110e-01  -5.54963788e-03   6.78678331e-02   1.66232701e-01\n",
      "    3.66353954e-02]\n",
      " [  3.51443681e-01   2.18054123e-02   1.14313600e-01   3.22534623e-03\n",
      "    7.83482285e-02   9.48482548e-02   2.42062958e-01   8.94097074e-02\n",
      "    2.28756060e-01   4.58210301e-02   1.00000000e+00   1.56147010e-01\n",
      "    1.50479568e-01   5.39907836e-02   5.36043339e-02   3.88438095e-01\n",
      "    1.22020252e-01]\n",
      " [  2.77015010e-01   5.03703715e-03   2.23515173e-01   6.63056170e-02\n",
      "    5.33703236e-02  -1.47592130e-03   2.18982777e-01   9.25780154e-02\n",
      "    1.68263895e-01   9.81040590e-02   1.56147010e-01   1.00000000e+00\n",
      "    1.08777962e-01   7.34059962e-03  -5.47810823e-04   2.96236979e-01\n",
      "    1.12710290e-01]\n",
      " [  2.35360025e-01   3.64541988e-02   1.20007255e-01   1.23449147e-02\n",
      "    2.64088436e-02   6.15825689e-02   1.40909904e-01   4.30890802e-02\n",
      "    1.25320052e-01   1.33439110e-01   1.50479568e-01   1.08777962e-01\n",
      "    1.00000000e+00   6.37971876e-02   9.12356211e-02   2.42857059e-01\n",
      "    8.07267988e-02]\n",
      " [  5.41868526e-02  -4.50571720e-02  -5.76377674e-02  -5.99005736e-02\n",
      "    3.16285448e-02   1.85037916e-02   1.43005538e-03   4.81019863e-03\n",
      "    3.72775330e-02  -5.54963788e-03   5.39907836e-02   7.34059962e-03\n",
      "    6.37971876e-02   1.00000000e+00   7.81274886e-02   6.85056538e-02\n",
      "    1.34319898e-01]\n",
      " [ -1.32384850e-02  -1.08772480e-02  -5.61799569e-02   1.63282467e-03\n",
      "   -4.47038362e-03   3.88943588e-02   9.77173804e-02  -6.25244751e-02\n",
      "   -4.43512870e-02   6.78678331e-02   5.36043339e-02  -5.47810823e-04\n",
      "    9.12356211e-02   7.81274886e-02   1.00000000e+00   1.04809604e-02\n",
      "    3.67301195e-02]\n",
      " [  4.99124862e-01   1.14416196e-01   2.52883071e-01   7.45510552e-02\n",
      "    1.05147966e-01   1.38124295e-01   3.48980453e-01   2.66356574e-01\n",
      "    3.39997028e-01   1.66232701e-01   3.88438095e-01   2.96236979e-01\n",
      "    2.42857059e-01   6.85056538e-02   1.04809604e-02   1.00000000e+00\n",
      "    2.04364026e-01]\n",
      " [  8.96426915e-02   2.22896949e-03   4.98899920e-02   1.53399962e-01\n",
      "    3.98490571e-02  -2.42270281e-02   5.85655757e-02   8.64543713e-02\n",
      "    1.30552318e-01   3.66353954e-02   1.22020252e-01   1.12710290e-01\n",
      "    8.07267988e-02   1.34319898e-01   3.67301195e-02   2.04364026e-01\n",
      "    1.00000000e+00]]\n"
     ]
    }
   ],
   "source": [
    "for activity, group in dataset.groupby(['activity']): \n",
    "    if activity in [\"Baseline\",\"Game\"]:\n",
    "        print('\\n+++++++++++++++++++++++++++++++++++++')\n",
    "        print('Activity:- ',activity)\n",
    "        sample=group['eeg_1'].tolist()\n",
    "        dates=group['date'].tolist()\n",
    "        s=np.array(sample)\n",
    "        s=s.reshape(len(group),500)\n",
    "#         print(s)\n",
    "        sim=cosine_similarity(s)\n",
    "        print(sim)\n",
    "\n",
    "#     print(type(date),type(group))\n"
   ]
  },
  {
   "cell_type": "code",
   "execution_count": null,
   "metadata": {
    "collapsed": true
   },
   "outputs": [],
   "source": []
  },
  {
   "cell_type": "code",
   "execution_count": null,
   "metadata": {
    "collapsed": true
   },
   "outputs": [],
   "source": []
  }
 ],
 "metadata": {
  "kernelspec": {
   "display_name": "Python 3",
   "language": "python",
   "name": "python3"
  },
  "language_info": {
   "codemirror_mode": {
    "name": "ipython",
    "version": 3
   },
   "file_extension": ".py",
   "mimetype": "text/x-python",
   "name": "python",
   "nbconvert_exporter": "python",
   "pygments_lexer": "ipython3",
   "version": "3.5.4"
  }
 },
 "nbformat": 4,
 "nbformat_minor": 2
}
