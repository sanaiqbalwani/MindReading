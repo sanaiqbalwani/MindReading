{
 "cells": [
  {
   "cell_type": "code",
   "execution_count": 24,
   "metadata": {},
   "outputs": [
    {
     "name": "stdout",
     "output_type": "stream",
     "text": [
      "Populating the interactive namespace from numpy and matplotlib\n"
     ]
    }
   ],
   "source": [
    "%pylab inline\n",
    "import json\n",
    "from xgboost.sklearn import XGBClassifier\n",
    "import xgboost as xgb\n",
    "import sklearn\n",
    "import pandas as pd\n",
    "from typing import Tuple\n",
    "from typing import List\n",
    "import numpy as np\n",
    "\n",
    "# dataset1 = pd.read_csv('data_till_29_oct.csv')\n",
    "# dataset2 = pd.read_csv('data_after_29_oct.csv')\n",
    "# # convert to arrays from strings\n",
    "# def assign_task_name(string):\n",
    "#     if 'lumosity'in string:\n",
    "#         return 'cognitive'\n",
    "#     if 'Game' in string:\n",
    "#         return 'cognitive'\n",
    "#     if 'head'in string:\n",
    "#         return 'baseline'\n",
    "#     if 'nback' in string:\n",
    "#         return 'cognitive'\n",
    "#     if 'Baseline' in string:\n",
    "#         return'baseline'\n",
    "#     else:\n",
    "#         return 'cognitive'\n",
    "\n",
    "# dataset=dataset1.append(dataset2)\n",
    "# dataset.eeg = dataset.eeg.map(json.loads)\n",
    "# dataset['date']=dataset['date'].apply(lambda x:x+'-2017')\n",
    "# dataset['task']=dataset['activity'].apply(lambda x :assign_task_name(x))\n",
    "# dataset.to_csv('all_data_labelled.csv',index=False)\n",
    "# dataset['date']=pd.to_datetime(dataset['date'], format='%d-%m-%Y')\n",
    "# dataset.to_csv('all_data_labelled.csv',index=False)"
   ]
  },
  {
   "cell_type": "code",
   "execution_count": 25,
   "metadata": {
    "collapsed": true
   },
   "outputs": [],
   "source": [
    "dataset = pd.read_csv('all_data_labelled.csv')\n",
    "dataset.eeg = dataset.eeg.map(json.loads)\n",
    "dataset['date']=pd.to_datetime(dataset['date'])\n",
    "\n",
    "dataset=dataset.sort_values(by='date')\n"
   ]
  },
  {
   "cell_type": "markdown",
   "metadata": {},
   "source": [
    "# add phase info\n"
   ]
  },
  {
   "cell_type": "code",
   "execution_count": 32,
   "metadata": {
    "collapsed": true
   },
   "outputs": [],
   "source": [
    "def get_phase(date):\n",
    "    date1 = datetime.datetime.strptime('2017-10-10', \"%Y-%m-%d\")\n",
    "    days=(date-date1).days\n",
    "    \n",
    "    if days<0:\n",
    "        days=30+days\n",
    "    if days>30:\n",
    "        days=days-30\n",
    "        \n",
    "    return days\n",
    "\n",
    "dataset['phase_distance']=dataset['date'].apply(lambda x:get_phase(x))\n",
    "dataset['phase_no']=pd.cut(dataset['phase_distance'],bins=[-1,5,14,15,31],labels=[1,2,3,4])"
   ]
  },
  {
   "cell_type": "code",
   "execution_count": 33,
   "metadata": {
    "collapsed": true
   },
   "outputs": [],
   "source": [
    "\n"
   ]
  },
  {
   "cell_type": "code",
   "execution_count": 34,
   "metadata": {
    "collapsed": true
   },
   "outputs": [],
   "source": [
    "lengths_of_eeg=dataset['eeg'].apply(lambda x:len(x))\n",
    "\n",
    "rm=[i for i, j in enumerate(lengths_of_eeg) if j == 0]\n",
    "dataset=dataset.drop(dataset.index[[rm]])\n",
    "# min(lengths_of_eeg)"
   ]
  },
  {
   "cell_type": "code",
   "execution_count": 35,
   "metadata": {},
   "outputs": [
    {
     "data": {
      "text/plain": [
       "1180"
      ]
     },
     "execution_count": 35,
     "metadata": {},
     "output_type": "execute_result"
    }
   ],
   "source": [
    "lengths_of_eeg=dataset['eeg'].apply(lambda x:len(x))\n",
    "min(lengths_of_eeg)\n",
    "\n",
    "# rm=[i for i, j in enumerate(lengths_of_eeg) if j == 0]\n",
    "# rm"
   ]
  },
  {
   "cell_type": "code",
   "execution_count": 38,
   "metadata": {
    "collapsed": true
   },
   "outputs": [],
   "source": [
    "# dataset['phase_distance']"
   ]
  },
  {
   "cell_type": "code",
   "execution_count": 37,
   "metadata": {
    "collapsed": true
   },
   "outputs": [],
   "source": [
    "# # drop any eeg of len 0\n",
    "# dataset=dataset.drop(dataset.index[[rm]])\n",
    "# lengths_of_eeg=dataset['eeg'].apply(lambda x:len(x))\n",
    "# min(lengths_of_eeg)\n"
   ]
  },
  {
   "cell_type": "code",
   "execution_count": null,
   "metadata": {
    "collapsed": true
   },
   "outputs": [],
   "source": [
    "\n",
    "def partition(lst, size):\n",
    "    \n",
    "    \"\"\"split eeg list into partitions of size 'size\"\"\"\n",
    "    \n",
    "    if len(lst)<size:\n",
    "        return []\n",
    "    else:\n",
    "        lists=[]\n",
    "\n",
    "        for i  in range(0, len(lst), size):\n",
    "            if len(lst[i:i+size])==size:\n",
    "                lists.append(lst[i:i+size])\n",
    "\n",
    "        return lists\n",
    "    \n",
    "    \n",
    "from numpy import dot\n",
    "from numpy.linalg import norm\n",
    "\n",
    "def cosine_similarity(a,b):\n",
    "    return dot(a, b)/(norm(a)*norm(b))\n",
    "                      \n",
    "partition([1,2,3,4,5,6,7,8,9,10],9)      \n"
   ]
  },
  {
   "cell_type": "code",
   "execution_count": null,
   "metadata": {
    "collapsed": true
   },
   "outputs": [],
   "source": [
    "# partition each  eeg entry into equal length lists\n",
    "# dataset['eeg']=dataset['eeg'].apply(lambda x:partition(x,1024))"
   ]
  },
  {
   "cell_type": "code",
   "execution_count": null,
   "metadata": {
    "collapsed": true
   },
   "outputs": [],
   "source": []
  },
  {
   "cell_type": "code",
   "execution_count": null,
   "metadata": {
    "collapsed": true
   },
   "outputs": [],
   "source": [
    "#dataset['eeg'].apply(lambda x:len(x))"
   ]
  },
  {
   "cell_type": "code",
   "execution_count": null,
   "metadata": {
    "collapsed": true
   },
   "outputs": [],
   "source": [
    "def to_power_spectrum (raw_readings):\n",
    "    '''\n",
    "    Take raw voltages,\n",
    "    transform into frequency domain,\n",
    "    return a power spectrum.\n",
    "    \n",
    "    '''\n",
    "    \n",
    "    sampling_rate=len(raw_readings)\n",
    "    # FFT the raw readings\n",
    "    fftd = np.fft.fft(raw_readings)\n",
    "    # take absolute value\n",
    "    # producing a symmetrical power spectrum\n",
    "    ps = np.abs(fftd)**2\n",
    "    # since the power spectrum is symmetrical, \n",
    "    # take half\n",
    "    half_len = len(ps)//2\n",
    "    ps = ps[:half_len]\n",
    "#     # we'll calculate the frequencies\n",
    "    window_size = len(raw_readings)\n",
    "    freqs = numpy.fft.fftfreq(window_size,d=1/sampling_rate)\n",
    "#     # splitting that in half to match\n",
    "    freqs = freqs[:half_len]\n",
    "    power_spectrum = pd.DataFrame({\n",
    "        'frequency (Hz)': freqs,\n",
    "        'magnitude': ps,\n",
    "    })\n",
    "    return power_spectrum\n",
    "def bandpass (\n",
    "    power_spec: pd.Series,\n",
    "    low_cutoff: float,\n",
    "    high_cutoff: float,)-> pd.Series:\n",
    "    \n",
    "    '''\"zooming in\" or \"cropping\" to these frequencies.'''\n",
    "    \n",
    "    return power_spec[(power_spec['frequency (Hz)'] > low_cutoff) & \n",
    "                      (power_spec['frequency (Hz)'] < high_cutoff)]\n"
   ]
  },
  {
   "cell_type": "code",
   "execution_count": null,
   "metadata": {
    "collapsed": true
   },
   "outputs": [],
   "source": [
    "def pickup_randomchunk(raw_reading_chunks):\n",
    "    '''this function picks a random chunk from the partitioned signal'''\n",
    "    index = np.random.randint(len(raw_reading_chunks))\n",
    "#     print(raw_reading_chunks [index])\n",
    "    return raw_reading_chunks [index] \n",
    "\n",
    "\n",
    "def plot_eeg(group,date):\n",
    "    colormap=['red','green','black','blue','aqua','pink']\n",
    "    tasklist={'cognitive':'red','baseline':'blue'}\n",
    "    counter=0\n",
    "    plt.figure(figsize=(20,5),dpi=150)\n",
    "    for i, row in group.iterrows():\n",
    "#         print(row['eeg'])\n",
    "#         print(i)\n",
    "        plt.plot(row['eeg'][1], linestyle='-',linewidth = 1,color= tasklist[row['task']])\n",
    "        counter+=1\n",
    "    plt.title('RAW-EEG for'+date)\n",
    "    plt.legend()\n",
    "    plt.show()\n",
    "        \n",
    "        \n",
    "        \n",
    "def plot_fft_eeg(group,date):\n",
    "    colormap=['red','green','black','blue','aqua','pink']\n",
    "    tasklist={'cognitive':1,'baseline':2}\n",
    "    tasklist={'cognitive':'red','baseline':'blue'}\n",
    "    counter=0\n",
    "    plt.figure(figsize=(20,5),dpi=150)\n",
    "    plt.axvline(x=0.5,linewidth = 1.5)\n",
    "    plt.text(0.5,0,'delta',rotation=90)\n",
    "    plt.axvline(x=4,linewidth = 1.5)\n",
    "    plt.text(4,1,'theta',rotation=90)\n",
    "    plt.axvline(x=8,linewidth = 1.5)\n",
    "    plt.text(8,1,'alpha',rotation=90)\n",
    "    plt.axvline(x=13,linewidth = 1.5)\n",
    "    plt.text(13,1,'beta',rotation=90)\n",
    "    plt.axvline(x=30,linewidth = 1.5)\n",
    "    plt.text(30,1,'gamma',rotation=90)\n",
    "   \n",
    "    for i, row in group.iterrows():\n",
    "        if len(row['eeg'])>0:\n",
    "# put condition to get second list of each eeg -inserting 1 in >>>row['eeg'][1]\n",
    "        \n",
    "            power_spec=to_power_spectrum(pickup_randomchunk(row['eeg']))\n",
    "       \n",
    "            plt.plot(bandpass(power_spec,0,30),color=tasklist[row['task']],linewidth = 1.5, label=row['task'])\n",
    "        counter+=1\n",
    "    plt.title(' FFT PLOT for'+ str(date))\n",
    "    plt.legend()\n",
    "    plt.show()\n",
    "        "
   ]
  },
  {
   "cell_type": "code",
   "execution_count": null,
   "metadata": {
    "collapsed": true,
    "scrolled": true
   },
   "outputs": [],
   "source": [
    "for date, group in dataset.groupby('date'): \n",
    "    print('Date', date)\n",
    "#     print(type(date),type(group),group)\n",
    "#     plot_eeg(group,date)\n",
    "    plot_fft_eeg(group,date)\n"
   ]
  },
  {
   "cell_type": "code",
   "execution_count": null,
   "metadata": {
    "collapsed": true
   },
   "outputs": [],
   "source": [
    "for date, group in dataset.groupby('date'): \n",
    "    print('Date', date)\n",
    "#     print(type(date),type(group),group)\n"
   ]
  },
  {
   "cell_type": "markdown",
   "metadata": {},
   "source": [
    "# lets us store second vector of each eeg in the  eeg_1 column od dataset and find cosine similarity between them\n"
   ]
  },
  {
   "cell_type": "code",
   "execution_count": null,
   "metadata": {
    "collapsed": true
   },
   "outputs": [],
   "source": [
    "sample=dataset['eeg_1'].tolist()"
   ]
  },
  {
   "cell_type": "code",
   "execution_count": null,
   "metadata": {
    "collapsed": true
   },
   "outputs": [],
   "source": [
    "s=np.array(sample)\n",
    "s=s.reshape(len(dataset),500)"
   ]
  },
  {
   "cell_type": "code",
   "execution_count": null,
   "metadata": {
    "collapsed": true
   },
   "outputs": [],
   "source": [
    "import numpy as np\n",
    "from sklearn.metrics.pairwise import cosine_similarity\n",
    "\n",
    "\n",
    "cosine_similarity(s[:5,:])"
   ]
  },
  {
   "cell_type": "markdown",
   "metadata": {},
   "source": [
    "## Let's find the cosine similarity across dates for a particular task"
   ]
  },
  {
   "cell_type": "code",
   "execution_count": 39,
   "metadata": {
    "collapsed": true
   },
   "outputs": [],
   "source": [
    "def to_power_spectrum_df(raw_readings):\n",
    "    '''\n",
    "    Take raw voltages,\n",
    "    transform into frequency domain,\n",
    "    return a power spectrum.\n",
    "    \n",
    "    '''\n",
    "    sampling_rate=len(raw_readings)\n",
    "    # FFT the raw readings\n",
    "    fftd = np.fft.fft(raw_readings)\n",
    "    # take absolute value\n",
    "    # producing a symmetrical power spectrum\n",
    "    ps = np.abs(fftd)**2\n",
    "    # since the power spectrum is symmetrical, \n",
    "    # take half\n",
    "    half_len = len(ps)//2\n",
    "    ps = ps[:half_len]\n",
    "#     # we'll calculate the frequencies\n",
    "    window_size = len(raw_readings)\n",
    "    freqs = numpy.fft.fftfreq(window_size,d=1/sampling_rate)\n",
    "#     # splitting that in half to match\n",
    "    freqs = freqs[:half_len]\n",
    "    power_spectrum = {\n",
    "        'frequency (Hz)': freqs,\n",
    "        'magnitude': ps,\n",
    "    }\n",
    "    return power_spectrum['magnitude']"
   ]
  },
  {
   "cell_type": "code",
   "execution_count": 40,
   "metadata": {
    "collapsed": true
   },
   "outputs": [],
   "source": [
    "# Here we are selecting 512 points from a random starting point"
   ]
  },
  {
   "cell_type": "code",
   "execution_count": 41,
   "metadata": {
    "collapsed": true
   },
   "outputs": [],
   "source": [
    "def pickup_random_sample(raw_reading):\n",
    "    pick_len =1024 #length of chunk we want to choose\n",
    "    total_len = len(raw_reading)\n",
    "    start_pt = np.random.randint(total_len - pick_len)\n",
    "    segment = raw_reading[start_pt:start_pt+pick_len]\n",
    "    return to_power_spectrum_df(segment)"
   ]
  },
  {
   "cell_type": "code",
   "execution_count": 42,
   "metadata": {
    "collapsed": true
   },
   "outputs": [],
   "source": [
    "# dataset = pd.read_csv('all_data_labelled.csv')\n",
    "# dataset.eeg = dataset.eeg.map(json.loads)"
   ]
  },
  {
   "cell_type": "code",
   "execution_count": 43,
   "metadata": {
    "collapsed": true
   },
   "outputs": [],
   "source": [
    "# lengths_of_eeg=dataset['eeg'].apply(lambda x:len(x))\n",
    "# # min(lengths_of_eeg)\n",
    "# rm=[i for i, j in enumerate(lengths_of_eeg) if j == 0]\n",
    "# dataset=dataset.drop(dataset.index[[rm]])\n"
   ]
  },
  {
   "cell_type": "code",
   "execution_count": 44,
   "metadata": {
    "collapsed": true
   },
   "outputs": [],
   "source": [
    "dataset[\"segment\"] = dataset.eeg.apply(pickup_random_sample)\n"
   ]
  },
  {
   "cell_type": "code",
   "execution_count": 45,
   "metadata": {
    "collapsed": true
   },
   "outputs": [],
   "source": [
    "dataset_baseline = dataset[dataset.task==\"baseline\"].copy(deep=True)\n",
    "# all lumosity activities\n",
    "dataset_cognitive = dataset[dataset.task==\"cognitive\"].copy(deep=True)"
   ]
  },
  {
   "cell_type": "code",
   "execution_count": 46,
   "metadata": {
    "collapsed": true
   },
   "outputs": [],
   "source": [
    "dataset_baseline = dataset_baseline.reset_index(drop=True)\n",
    "dataset_cognitive = dataset_cognitive.reset_index(drop=True)\n"
   ]
  },
  {
   "cell_type": "code",
   "execution_count": 47,
   "metadata": {
    "collapsed": true
   },
   "outputs": [],
   "source": [
    "def get_cosine_similarity(a,b):\n",
    "    a = np.array(a)\n",
    "    b = np.array(b)\n",
    "    return dot(a,b)/(norm(a)*norm(b))"
   ]
  },
  {
   "cell_type": "code",
   "execution_count": 48,
   "metadata": {
    "collapsed": true
   },
   "outputs": [],
   "source": [
    "date_list_baseline = dataset_baseline.date.tolist()\n",
    "segments_list_baseline = dataset_baseline.segment.tolist()\n",
    "phase_list_baseline=dataset_baseline.phase_distance.tolist()\n",
    "\n",
    "date_list_cognitive = dataset_cognitive.date.tolist()\n",
    "segments_list_cognitive= dataset_cognitive.segment.tolist()\n",
    "phase_list_cognitive=dataset_cognitive.phase_distance.tolist()\n"
   ]
  },
  {
   "cell_type": "code",
   "execution_count": 49,
   "metadata": {
    "collapsed": true
   },
   "outputs": [],
   "source": [
    "baseline_comparisons = []\n",
    "for segment1 in segments_list_baseline:\n",
    "    curr_list = []\n",
    "    for segment2 in segments_list_baseline:\n",
    "        curr_list.append(get_cosine_similarity(segment1,segment2))\n",
    "    baseline_comparisons.append(np.array(curr_list))\n",
    "# baseline_comparisons"
   ]
  },
  {
   "cell_type": "code",
   "execution_count": 50,
   "metadata": {
    "collapsed": true
   },
   "outputs": [],
   "source": [
    "cognitive_comparisons = []\n",
    "for segment1 in segments_list_cognitive:\n",
    "    curr_list = []\n",
    "    for segment2 in segments_list_cognitive:\n",
    "        curr_list.append(get_cosine_similarity(segment1,segment2))\n",
    "    cognitive_comparisons.append(np.array(curr_list))\n",
    "    \n",
    "# cognitive_comparisons"
   ]
  },
  {
   "cell_type": "code",
   "execution_count": 51,
   "metadata": {
    "collapsed": true,
    "scrolled": false
   },
   "outputs": [],
   "source": [
    "baseline_comparisons = np.array(baseline_comparisons)\n",
    "cognitive_comparisons = np.array(cognitive_comparisons)"
   ]
  },
  {
   "cell_type": "code",
   "execution_count": 52,
   "metadata": {
    "collapsed": true
   },
   "outputs": [],
   "source": [
    "def plot_date_similarity(comparisons, date_list, task):\n",
    "    fig = plt.figure(figsize=(20,20))\n",
    "    ax = fig.add_subplot(111)\n",
    "    cmap = cm.get_cmap('jet', 30)\n",
    "#     cax = ax.matshow(comparisons, vmin=-1, vmax=1)\n",
    "    cax = ax.imshow(comparisons, interpolation=\"nearest\", cmap=cmap)\n",
    "#     ax.grid(True)\n",
    "    ticks = numpy.arange(0,len(date_list),1)\n",
    "    ax.set_xticks(ticks)\n",
    "    ax.set_yticks(ticks)\n",
    "    ax.set_xticklabels(date_list,rotation='vertical',fontsize=14)\n",
    "    ax.set_yticklabels(date_list,fontsize=14)\n",
    "    plt.title(\"Cosine Similarity of \"+ task+\" task across different days\",fontsize=18)\n",
    "    plt.colorbar(cax, ticks=[0,.2,.4,.6,.8,1])\n",
    "    plt.show()\n",
    "    \n",
    "    \n",
    "    \n",
    "#         from matplotlib import pyplot as plt\n",
    "#     from matplotlib import cm as cm\n",
    "\n",
    "#     fig = plt.figure()\n",
    "#     ax1 = fig.add_subplot(111)\n",
    "#     cmap = cm.get_cmap('jet', 30)\n",
    "#     cax = ax1.imshow(df.corr(), interpolation=\"nearest\", cmap=cmap)\n",
    "#     ax1.grid(True)\n",
    "#     plt.title('Abalone Feature Correlation')\n",
    "#     labels=['Sex','Length','Diam','Height','Whole','Shucked','Viscera','Shell','Rings',]\n",
    "#     ax1.set_xticklabels(labels,fontsize=6)\n",
    "#     ax1.set_yticklabels(labels,fontsize=6)\n",
    "#     # Add colorbar, make sure to specify tick locations to match desired ticklabels\n",
    "#     fig.colorbar(cax, ticks=[.75,.8,.85,.90,.95,1])\n",
    "#     plt.show()"
   ]
  },
  {
   "cell_type": "code",
   "execution_count": 53,
   "metadata": {},
   "outputs": [
    {
     "data": {
      "image/png": "[encoded data removed]",
      "text/plain": [
       "<matplotlib.figure.Figure at 0x1161c3940>"
      ]
     },
     "metadata": {},
     "output_type": "display_data"
    }
   ],
   "source": [
    "plot_date_similarity(baseline_comparisons, phase_list_baseline, \"Baseline\")"
   ]
  },
  {
   "cell_type": "code",
   "execution_count": 54,
   "metadata": {
    "scrolled": true
   },
   "outputs": [
    {
     "data": {
      "image/png": "[encoded data removed]",
      "text/plain": [
       "<matplotlib.figure.Figure at 0x1168dbdd8>"
      ]
     },
     "metadata": {},
     "output_type": "display_data"
    }
   ],
   "source": [
    "plot_date_similarity(cognitive_comparisons, phase_list_cognitive, \"cognitive\")"
   ]
  },
  {
   "cell_type": "code",
   "execution_count": null,
   "metadata": {
    "collapsed": true
   },
   "outputs": [],
   "source": [
    "def plot_date_similarity_lines(comparisons, date_list, task):\n",
    "    fig = plt.figure(figsize=(18,5))\n",
    "    ax = fig.add_subplot(111)\n",
    "    cax = ax.plot(comparisons[0])\n",
    "    ticks = numpy.arange(0,len(date_list),1)\n",
    "    ax.set_xticks(ticks)\n",
    "#     ax.set_yticks(ticks)\n",
    "    ax.set_xticklabels(date_list)\n",
    "#     ax.set_yticklabels(date_list)\n",
    "    plt.title(\"Cosine Similarity of \"+str(date_list[0])+ task+\" task across different days\")\n",
    "    plt.show()"
   ]
  },
  {
   "cell_type": "code",
   "execution_count": null,
   "metadata": {
    "collapsed": true
   },
   "outputs": [],
   "source": [
    "plot_date_similarity_lines(cognitive_comparisons, date_list_cognitive, \"cognitive\")"
   ]
  },
  {
   "cell_type": "code",
   "execution_count": null,
   "metadata": {
    "collapsed": true
   },
   "outputs": [],
   "source": [
    "%matplotlib inline\n",
    "import matplotlib.pyplot as plt\n",
    "import seaborn as sns; sns.set()  # for plot styling\n",
    "\n",
    "from sklearn.metrics import confusion_matrix\n",
    "# mat = confusion_matrix(digits.target, labels)\n",
    "date_list=str(date_list_cognitive)\n",
    "sns.heatmap(cognitive_comparisons, square=True, annot=True, fmt='d', cbar=False,\n",
    "            xticklabels=date_list,\n",
    "            yticklabels=date_list)\n",
    "\n",
    "plt.xlabel('true label')\n",
    "plt.ylabel('predicted label');\n",
    "\n"
   ]
  },
  {
   "cell_type": "code",
   "execution_count": null,
   "metadata": {
    "collapsed": true
   },
   "outputs": [],
   "source": []
  }
 ],
 "metadata": {
  "kernelspec": {
   "display_name": "Python 3",
   "language": "python",
   "name": "python3"
  },
  "language_info": {
   "codemirror_mode": {
    "name": "ipython",
    "version": 3
   },
   "file_extension": ".py",
   "mimetype": "text/x-python",
   "name": "python",
   "nbconvert_exporter": "python",
   "pygments_lexer": "ipython3",
   "version": "3.5.4"
  }
 },
 "nbformat": 4,
 "nbformat_minor": 2
}
